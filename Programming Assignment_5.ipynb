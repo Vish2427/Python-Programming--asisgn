{
 "cells": [
  {
   "cell_type": "code",
   "execution_count": 1,
   "id": "dcb6a656",
   "metadata": {},
   "outputs": [],
   "source": [
    "#1 Write a Python Program to Find LCM?\n",
    "import math\n"
   ]
  },
  {
   "cell_type": "code",
   "execution_count": 2,
   "id": "18999a66",
   "metadata": {},
   "outputs": [
    {
     "data": {
      "text/plain": [
       "40"
      ]
     },
     "execution_count": 2,
     "metadata": {},
     "output_type": "execute_result"
    }
   ],
   "source": [
    "math.lcm(5,2,8)"
   ]
  },
  {
   "cell_type": "code",
   "execution_count": 3,
   "id": "2238a72e",
   "metadata": {},
   "outputs": [
    {
     "name": "stdout",
     "output_type": "stream",
     "text": [
      "Enter the numbers 5,2,8\n",
      "40.0\n"
     ]
    }
   ],
   "source": [
    "def lcm(a,b):\n",
    "    if a>b:\n",
    "        num =a\n",
    "        den=b\n",
    "    else:\n",
    "        num = b\n",
    "        den = a\n",
    "    rem = num%den\n",
    "    while(rem!=0):\n",
    "        num = den\n",
    "        den = rem\n",
    "        rem = num%den\n",
    "    c = den\n",
    "    l= (a*b)/den\n",
    "    return l\n",
    "total_numbers=(input('Enter the numbers '))\n",
    "g=total_numbers.split(',')\n",
    "a=int(g[0])\n",
    "b=int(g[1])\n",
    "d=lcm(a,b)\n",
    "for i in range(2,len(g)):\n",
    "    d=lcm(d,int(g[i]))\n",
    "print(d)        "
   ]
  },
  {
   "cell_type": "code",
   "execution_count": 4,
   "id": "65d46ae4",
   "metadata": {},
   "outputs": [
    {
     "data": {
      "text/plain": [
       "2"
      ]
     },
     "execution_count": 4,
     "metadata": {},
     "output_type": "execute_result"
    }
   ],
   "source": [
    "#2 Write a Python Program to Find HCF?\n",
    "math.gcd(6,20,30)"
   ]
  },
  {
   "cell_type": "code",
   "execution_count": 9,
   "id": "2d6aa30e",
   "metadata": {},
   "outputs": [
    {
     "name": "stdout",
     "output_type": "stream",
     "text": [
      "Enter number 350\n",
      "0b101011110 0o536 0x15e\n",
      "101011110\n",
      "536\n"
     ]
    }
   ],
   "source": [
    "#3 Write a Python Program to Convert Decimal to Binary, Octal and Hexadecimal?\n",
    "\n",
    "def dec_to_bi(a):\n",
    "    l=[]\n",
    "    while a>0:\n",
    "        rem = a%2\n",
    "        l.append(rem)\n",
    "        a=(a-rem)/2\n",
    "    b=''\n",
    "    for i in l[-1::-1]:\n",
    "        b=b+str(round(i))\n",
    "    return b\n",
    "def dec_to_oct(a):\n",
    "    if a<=8:\n",
    "        dec_to_bi(a)\n",
    "    else :\n",
    "        l=[]\n",
    "    while a>0:\n",
    "        rem = a%8\n",
    "        l.append(rem)\n",
    "        a=(a-rem)/8\n",
    "    b=''\n",
    "    for i in l[-1::-1]:\n",
    "        b=b+str(round(i))\n",
    "    return b\n",
    "\n",
    "a=int(input('Enter number '))\n",
    "\n",
    "print(bin(a),oct(a),hex(a))\n",
    "print(dec_to_bi(a))\n",
    "print(dec_to_oct(a))"
   ]
  },
  {
   "cell_type": "code",
   "execution_count": 17,
   "id": "3dab3a52",
   "metadata": {},
   "outputs": [
    {
     "name": "stdout",
     "output_type": "stream",
     "text": [
      "enter character D\n",
      "68\n"
     ]
    }
   ],
   "source": [
    "#4 Write a Python Program To Find ASCII value of a character?\n",
    "a=input('enter character ')\n",
    "print(ord(a))"
   ]
  },
  {
   "cell_type": "code",
   "execution_count": 24,
   "id": "abaa0018",
   "metadata": {},
   "outputs": [
    {
     "name": "stdout",
     "output_type": "stream",
     "text": [
      "Select the choice\n",
      "1.Addition\n",
      "2.Subtraction\n",
      "3.Multiplication\n",
      "4.Division\n",
      "4\n",
      "Enter first number 8\n",
      "Enter first number 6\n",
      "8.0 / 6.0 = 1.3333333333333333\n",
      "next calculation (y/n)y\n",
      "5\n",
      "invalid input\n",
      "2\n",
      "Enter first number 9\n",
      "Enter first number 5\n",
      "9.0 - 5.0 = 4.0\n",
      "next calculation (y/n)n\n"
     ]
    }
   ],
   "source": [
    "#5 Write a Python Program to Make a Simple Calculator with 4 basic mathematical operations?\n",
    "print('Select the choice')\n",
    "print('1.Addition')\n",
    "print('2.Subtraction')\n",
    "print('3.Multiplication')\n",
    "print('4.Division')\n",
    "\n",
    "while True:\n",
    "    select= int(input())\n",
    "    if select in (1,2,3,4):\n",
    "        a=float(input('Enter first number '))\n",
    "        b =float(input('Enter first number '))\n",
    "    \n",
    "        if select == 1:\n",
    "            print(a,'+',b,'=',float(a+b))\n",
    "        elif select == 2:\n",
    "             print(a,'-',b,'=',float(a-b))\n",
    "        elif select == 3:\n",
    "             print(a,'X',b,'=',float(a*b))\n",
    "        elif select == 4:\n",
    "             print(a,'/',b,'=',float(a/b))\n",
    "            \n",
    "        cont= input('next calculation (y/n)')\n",
    "        if cont=='n':\n",
    "            break\n",
    "    else :\n",
    "        print('invalid input')\n"
   ]
  },
  {
   "cell_type": "code",
   "execution_count": null,
   "id": "737a89ef",
   "metadata": {},
   "outputs": [],
   "source": []
  }
 ],
 "metadata": {
  "kernelspec": {
   "display_name": "Python 3 (ipykernel)",
   "language": "python",
   "name": "python3"
  },
  "language_info": {
   "codemirror_mode": {
    "name": "ipython",
    "version": 3
   },
   "file_extension": ".py",
   "mimetype": "text/x-python",
   "name": "python",
   "nbconvert_exporter": "python",
   "pygments_lexer": "ipython3",
   "version": "3.9.7"
  }
 },
 "nbformat": 4,
 "nbformat_minor": 5
}
