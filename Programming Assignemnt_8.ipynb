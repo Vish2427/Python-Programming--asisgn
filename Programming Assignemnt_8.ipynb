{
 "cells": [
  {
   "cell_type": "code",
   "execution_count": 1,
   "id": "f7abec3e",
   "metadata": {},
   "outputs": [],
   "source": [
    "import numpy as np"
   ]
  },
  {
   "cell_type": "code",
   "execution_count": 25,
   "id": "0fad4e35",
   "metadata": {},
   "outputs": [
    {
     "data": {
      "text/plain": [
       "matrix([[17, 15, 12],\n",
       "        [15, 15, 14],\n",
       "        [13, 15, 16]])"
      ]
     },
     "execution_count": 25,
     "metadata": {},
     "output_type": "execute_result"
    }
   ],
   "source": [
    "#1 Write a Python Program to Add Two Matrices?\n",
    "def add_matrix(a,b):\n",
    "    return a+b\n",
    "np.random.seed(1)\n",
    "a=np.matrix(np.random.randint(5,10,(3,3)))\n",
    "b=np.matrix(np.random.randint(5,10,(3,3)))\n",
    "add_matrix(a,b)"
   ]
  },
  {
   "cell_type": "code",
   "execution_count": 37,
   "id": "4e7c6a23",
   "metadata": {},
   "outputs": [
    {
     "data": {
      "text/plain": [
       "array([[119,  77, 175],\n",
       "       [102,  46, 129],\n",
       "       [100,  60, 148]])"
      ]
     },
     "execution_count": 37,
     "metadata": {},
     "output_type": "execute_result"
    }
   ],
   "source": [
    "#2 Write a Python Program to Multiply Two Matrices?\n",
    "\n",
    "a=np.array([[5,8,9],[7,2,6],[4,6,8]])\n",
    "b=np.array([[8,4,7],[2,6,4],[7,1,12]])\n",
    "a@b"
   ]
  },
  {
   "cell_type": "code",
   "execution_count": 38,
   "id": "b5b82f8d",
   "metadata": {},
   "outputs": [
    {
     "data": {
      "text/plain": [
       "array([[5, 7, 4],\n",
       "       [8, 2, 6],\n",
       "       [9, 6, 8]])"
      ]
     },
     "execution_count": 38,
     "metadata": {},
     "output_type": "execute_result"
    }
   ],
   "source": [
    "#3 Write a Python Program to Transpose a Matrix?\n",
    "a=np.array([[5,8,9],[7,2,6],[4,6,8]])\n",
    "a.T"
   ]
  },
  {
   "cell_type": "code",
   "execution_count": 56,
   "id": "7db83af9",
   "metadata": {},
   "outputs": [
    {
     "data": {
      "text/plain": [
       "['am', 'hi', 'i', 'learning', 'python']"
      ]
     },
     "execution_count": 56,
     "metadata": {},
     "output_type": "execute_result"
    }
   ],
   "source": [
    "#4 Write a Python Program to Sort Words in Alphabetic Order?\n",
    "a='hi i am learning python'\n",
    "b=list(a.split(\" \"))\n",
    "sorted(b)"
   ]
  },
  {
   "cell_type": "code",
   "execution_count": 61,
   "id": "1b3b9352",
   "metadata": {},
   "outputs": [
    {
     "name": "stdout",
     "output_type": "stream",
     "text": [
      "Hi IaM STuDYINg PyThON\n"
     ]
    }
   ],
   "source": [
    "#5 Write a Python Program to Remove Punctuation From a String?\n",
    "import string\n",
    "def pun(value):\n",
    "    a = \"\"\n",
    "    for i in value:\n",
    "        if i not in string.punctuation:\n",
    "            a += i\n",
    "    return a\n",
    "b = \"H&@*i@ &#(I&@(a&*M)@* $S*&T*(u@&D)Y*(#I*@(N&(g(&@ &P)&%%@y%^@T^*%h^#^O^@N\"\n",
    "print(pun(b))"
   ]
  },
  {
   "cell_type": "code",
   "execution_count": null,
   "id": "7b29f6f6",
   "metadata": {},
   "outputs": [],
   "source": []
  }
 ],
 "metadata": {
  "kernelspec": {
   "display_name": "Python 3 (ipykernel)",
   "language": "python",
   "name": "python3"
  },
  "language_info": {
   "codemirror_mode": {
    "name": "ipython",
    "version": 3
   },
   "file_extension": ".py",
   "mimetype": "text/x-python",
   "name": "python",
   "nbconvert_exporter": "python",
   "pygments_lexer": "ipython3",
   "version": "3.9.7"
  }
 },
 "nbformat": 4,
 "nbformat_minor": 5
}
