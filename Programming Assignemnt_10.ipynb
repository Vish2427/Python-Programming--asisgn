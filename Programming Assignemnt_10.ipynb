{
 "cells": [
  {
   "cell_type": "code",
   "execution_count": 12,
   "id": "24a53f3b",
   "metadata": {},
   "outputs": [
    {
     "name": "stdout",
     "output_type": "stream",
     "text": [
      "[4, 5, 8, 9, 6, 3, 7]\n"
     ]
    },
    {
     "data": {
      "text/plain": [
       "42"
      ]
     },
     "execution_count": 12,
     "metadata": {},
     "output_type": "execute_result"
    }
   ],
   "source": [
    "#1 Write a Python program to find sum of elements in list?\n",
    "def add(a):\n",
    "    print(a)\n",
    "    b=0\n",
    "    for i in a:\n",
    "        b=b+i\n",
    "    return b\n",
    "add([4,5,8,9,6,3,7])"
   ]
  },
  {
   "cell_type": "code",
   "execution_count": 13,
   "id": "4a6b6bbe",
   "metadata": {},
   "outputs": [
    {
     "name": "stdout",
     "output_type": "stream",
     "text": [
      "[4, 5, 2]\n"
     ]
    },
    {
     "data": {
      "text/plain": [
       "40"
      ]
     },
     "execution_count": 13,
     "metadata": {},
     "output_type": "execute_result"
    }
   ],
   "source": [
    "#2 Write a Python program to Multiply all numbers in the list?\n",
    "def mul(a):\n",
    "    print(a)\n",
    "    b=1\n",
    "    for i in a:\n",
    "        b=b*i\n",
    "    return b\n",
    "mul([4,5,2])"
   ]
  },
  {
   "cell_type": "code",
   "execution_count": 17,
   "id": "b7b0936d",
   "metadata": {},
   "outputs": [
    {
     "data": {
      "text/plain": [
       "6"
      ]
     },
     "execution_count": 17,
     "metadata": {},
     "output_type": "execute_result"
    }
   ],
   "source": [
    "#3 Write a Python program to find smallest number in a list?\n",
    "a=[25,8,99,8,7,55,6]\n",
    "b=min(a)\n",
    "b"
   ]
  },
  {
   "cell_type": "code",
   "execution_count": 18,
   "id": "0588c759",
   "metadata": {},
   "outputs": [
    {
     "data": {
      "text/plain": [
       "99"
      ]
     },
     "execution_count": 18,
     "metadata": {},
     "output_type": "execute_result"
    }
   ],
   "source": [
    "#4 Write a Python program to find largest number in a list?\n",
    "a=[25,8,99,8,7,55,6]\n",
    "b=max(a)\n",
    "b"
   ]
  },
  {
   "cell_type": "code",
   "execution_count": 38,
   "id": "604d07b8",
   "metadata": {},
   "outputs": [
    {
     "data": {
      "text/plain": [
       "48"
      ]
     },
     "execution_count": 38,
     "metadata": {},
     "output_type": "execute_result"
    }
   ],
   "source": [
    "#5 Write a Python program to find second largest number in a list?\n",
    "l=[84,8,7,5,8,48,5,8,3]\n",
    "l.remove(max(l))\n",
    "max(l)"
   ]
  },
  {
   "cell_type": "code",
   "execution_count": 50,
   "id": "07a25d26",
   "metadata": {},
   "outputs": [
    {
     "name": "stdout",
     "output_type": "stream",
     "text": [
      "84\n",
      "66\n",
      "48\n"
     ]
    }
   ],
   "source": [
    "#6 Write a Python program to find N largest elements from a list?\n",
    "def N_largest(a,n):\n",
    "    b=a.sort()\n",
    "    \n",
    "    for i in range(1,n+1):\n",
    "        print(a[-i])\n",
    "        \n",
    "N_largest([84,8,7,5,66,48,5,25,3],3)"
   ]
  },
  {
   "cell_type": "code",
   "execution_count": 52,
   "id": "78bab628",
   "metadata": {},
   "outputs": [
    {
     "name": "stdout",
     "output_type": "stream",
     "text": [
      "84\n",
      "8\n",
      "66\n",
      "48\n"
     ]
    }
   ],
   "source": [
    "#7 Write a Python program to print even numbers in a list?\n",
    "def even(a):\n",
    "    for i in range(len(a)):\n",
    "        if a[i]%2==0:\n",
    "            print(a[i])\n",
    "even([84,8,7,5,66,48,5,25,3])"
   ]
  },
  {
   "cell_type": "code",
   "execution_count": 53,
   "id": "666d98f2",
   "metadata": {},
   "outputs": [
    {
     "name": "stdout",
     "output_type": "stream",
     "text": [
      "7\n",
      "5\n",
      "5\n",
      "25\n",
      "3\n"
     ]
    }
   ],
   "source": [
    "#8 Write a Python program to print odd numbers in a List?\n",
    "def odd(a):\n",
    "    for i in range(len(a)):\n",
    "        if a[i]%2!=0:\n",
    "            print(a[i])\n",
    "odd([84,8,7,5,66,48,5,25,3])"
   ]
  },
  {
   "cell_type": "code",
   "execution_count": 77,
   "id": "f7855989",
   "metadata": {},
   "outputs": [
    {
     "name": "stdout",
     "output_type": "stream",
     "text": [
      "[[3], [8, 9, 3], [56, 'sgf', 46]]\n"
     ]
    }
   ],
   "source": [
    "#9 Write a Python program to Remove empty List from List?\n",
    "def empt(j):\n",
    "    i=1\n",
    "    while i>0:\n",
    "        if []  in j:\n",
    "           \n",
    "            j.remove([])\n",
    "          \n",
    "        else:\n",
    "            break\n",
    "    print(j)\n",
    "\n",
    "empt([[3],[],[8,9,3],[],[56,'sgf',46],[]])"
   ]
  },
  {
   "cell_type": "code",
   "execution_count": 79,
   "id": "bf9a7108",
   "metadata": {},
   "outputs": [
    {
     "data": {
      "text/plain": [
       "([84, 8, 7, 5, 66, 48, 5, 25, 3], 'copy of a', [84, 8, 7, 5, 66, 48, 5, 25, 3])"
      ]
     },
     "execution_count": 79,
     "metadata": {},
     "output_type": "execute_result"
    }
   ],
   "source": [
    "#10 Write a Python program to Cloning or Copying a list?\n",
    "def copy(a):\n",
    "    b=a\n",
    "    return a,'copy of a', b\n",
    "copy([84,8,7,5,66,48,5,25,3])"
   ]
  },
  {
   "cell_type": "code",
   "execution_count": 83,
   "id": "6badcc63",
   "metadata": {},
   "outputs": [
    {
     "name": "stdout",
     "output_type": "stream",
     "text": [
      "55 is 2 times\n",
      "8 is 3 times\n",
      "5 is 2 times\n",
      "6 is 1 times\n",
      "3 is 2 times\n",
      "and is 2 times\n"
     ]
    }
   ],
   "source": [
    "#11 Write a Python program to Count occurrences of an element in a list?\n",
    "def occur(a):\n",
    "    l=[]\n",
    "    for i in a:\n",
    "        if i not in l:\n",
    "            l.append(i)\n",
    "    \n",
    "    for i in l:\n",
    "        count =0\n",
    "        for j in range(len(a)):\n",
    "            if i==a[j]:\n",
    "                count +=1\n",
    "        print(i,'is',count,'times')\n",
    "occur([55,8,5,6,5,3,8,55,8,3,'and','and'])"
   ]
  },
  {
   "cell_type": "code",
   "execution_count": null,
   "id": "fa1fa156",
   "metadata": {},
   "outputs": [],
   "source": []
  }
 ],
 "metadata": {
  "kernelspec": {
   "display_name": "Python 3 (ipykernel)",
   "language": "python",
   "name": "python3"
  },
  "language_info": {
   "codemirror_mode": {
    "name": "ipython",
    "version": 3
   },
   "file_extension": ".py",
   "mimetype": "text/x-python",
   "name": "python",
   "nbconvert_exporter": "python",
   "pygments_lexer": "ipython3",
   "version": "3.9.7"
  }
 },
 "nbformat": 4,
 "nbformat_minor": 5
}
