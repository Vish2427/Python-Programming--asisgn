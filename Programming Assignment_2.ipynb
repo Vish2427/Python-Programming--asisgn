{
 "cells": [
  {
   "cell_type": "code",
   "execution_count": 3,
   "id": "4176abd5",
   "metadata": {},
   "outputs": [
    {
     "name": "stdout",
     "output_type": "stream",
     "text": [
      "Enter the km 8\n",
      "km to miles is 4.97\n"
     ]
    }
   ],
   "source": [
    "#1 Write a Python program to convert kilometers to miles?\n",
    "a=float(input('Enter the km '))\n",
    "print('km to miles is',round((a*0.6214),2))"
   ]
  },
  {
   "cell_type": "code",
   "execution_count": 5,
   "id": "4acf5cf2",
   "metadata": {},
   "outputs": [
    {
     "name": "stdout",
     "output_type": "stream",
     "text": [
      "Enter the Celsius 37\n",
      "Celsius 37.0 to Fahrenheit 98.6\n"
     ]
    }
   ],
   "source": [
    "#2 Write a Python program to convert Celsius to Fahrenheit?\n",
    "a=float(input('Enter the Celsius '))\n",
    "print('Celsius',a,'to Fahrenheit',round((a*1.8)+32,2))    "
   ]
  },
  {
   "cell_type": "code",
   "execution_count": 10,
   "id": "6fe66235",
   "metadata": {},
   "outputs": [
    {
     "name": "stdout",
     "output_type": "stream",
     "text": [
      "   February 2022\n",
      "Mo Tu We Th Fr Sa Su\n",
      "    1  2  3  4  5  6\n",
      " 7  8  9 10 11 12 13\n",
      "14 15 16 17 18 19 20\n",
      "21 22 23 24 25 26 27\n",
      "28\n",
      "\n"
     ]
    }
   ],
   "source": [
    "#3 Write a Python program to display calendar?\n",
    "import calendar\n",
    "mm=2\n",
    "yy=2022\n",
    "print(calendar.month(yy,mm))"
   ]
  },
  {
   "cell_type": "code",
   "execution_count": 15,
   "id": "5c3238dd",
   "metadata": {},
   "outputs": [],
   "source": [
    "import math"
   ]
  },
  {
   "cell_type": "code",
   "execution_count": 20,
   "id": "9bd79fe3",
   "metadata": {},
   "outputs": [
    {
     "data": {
      "text/plain": [
       "(-0.3660254037844386, 1.3660254037844386)"
      ]
     },
     "execution_count": 20,
     "metadata": {},
     "output_type": "execute_result"
    }
   ],
   "source": [
    "#4 Write a Python program to solve quadratic equation?\n",
    "\n",
    "def solution(a,b,c):\n",
    "    d=math.sqrt((b**2)-(4*a*c))\n",
    "    x1=(-b+d)/(2*a)\n",
    "    x2=(-b-d)/(2*a)\n",
    "    return x1,x2\n",
    "\n",
    "solution(-2,2,1)\n"
   ]
  },
  {
   "cell_type": "code",
   "execution_count": 11,
   "id": "c2cd8538",
   "metadata": {},
   "outputs": [
    {
     "name": "stdout",
     "output_type": "stream",
     "text": [
      "6 5\n"
     ]
    }
   ],
   "source": [
    "#5 Write a Python program to swap two variables without temp variable?\n",
    "a=5\n",
    "b=6\n",
    "a,b=b,a\n",
    "print(a,b)"
   ]
  },
  {
   "cell_type": "code",
   "execution_count": null,
   "id": "a159a496",
   "metadata": {},
   "outputs": [],
   "source": []
  }
 ],
 "metadata": {
  "kernelspec": {
   "display_name": "Python 3 (ipykernel)",
   "language": "python",
   "name": "python3"
  },
  "language_info": {
   "codemirror_mode": {
    "name": "ipython",
    "version": 3
   },
   "file_extension": ".py",
   "mimetype": "text/x-python",
   "name": "python",
   "nbconvert_exporter": "python",
   "pygments_lexer": "ipython3",
   "version": "3.9.7"
  }
 },
 "nbformat": 4,
 "nbformat_minor": 5
}
