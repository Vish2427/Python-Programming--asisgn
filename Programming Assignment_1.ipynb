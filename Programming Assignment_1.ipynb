{
 "cells": [
  {
   "cell_type": "code",
   "execution_count": 1,
   "id": "f3a2d322",
   "metadata": {},
   "outputs": [
    {
     "name": "stdout",
     "output_type": "stream",
     "text": [
      "hello Python\n"
     ]
    }
   ],
   "source": [
    "#1.\tWrite a Python program to print \"Hello Python\"?\n",
    "print(\"hello Python\")"
   ]
  },
  {
   "cell_type": "code",
   "execution_count": 2,
   "id": "170504e4",
   "metadata": {},
   "outputs": [
    {
     "name": "stdout",
     "output_type": "stream",
     "text": [
      "Enter no.5\n",
      "Enter no.4\n",
      "Sum of 5 and 4 is 9\n",
      "Division of 5 and 4 is 1.25\n"
     ]
    }
   ],
   "source": [
    "#2 \tWrite a Python program to do arithmetical operations addition and division.?\n",
    "a=int(input('Enter no.'))\n",
    "b=int(input('Enter no.'))\n",
    "print(\"Sum of\",a,'and',b,'is',a+b)\n",
    "print(\"Division of\",a,'and',b,'is',a/b)"
   ]
  },
  {
   "cell_type": "code",
   "execution_count": 4,
   "id": "a9488959",
   "metadata": {},
   "outputs": [
    {
     "name": "stdout",
     "output_type": "stream",
     "text": [
      "Enter height of triangle 6\n",
      "Enter base of triangle 8\n",
      "Area of triangle is 24.0\n"
     ]
    }
   ],
   "source": [
    "#3 Write a Python program to find the area of a triangle?\n",
    "a=int(input('Enter height of triangle '))\n",
    "b=int(input('Enter base of triangle '))\n",
    "print('Area of triangle is',0.5*a*b)"
   ]
  },
  {
   "cell_type": "code",
   "execution_count": 5,
   "id": "937038df",
   "metadata": {},
   "outputs": [
    {
     "name": "stdout",
     "output_type": "stream",
     "text": [
      "6 5\n"
     ]
    }
   ],
   "source": [
    "#4 Write a Python program to swap two variables?\n",
    "a=5\n",
    "b=6\n",
    "a,b=b,a\n",
    "print(a,b)"
   ]
  },
  {
   "cell_type": "code",
   "execution_count": 6,
   "id": "7c81d6f0",
   "metadata": {},
   "outputs": [
    {
     "data": {
      "text/plain": [
       "45"
      ]
     },
     "execution_count": 6,
     "metadata": {},
     "output_type": "execute_result"
    }
   ],
   "source": [
    "#5 Write a Python program to generate a random number?\n",
    "import random\n",
    "random.randint(0,100)"
   ]
  },
  {
   "cell_type": "code",
   "execution_count": null,
   "id": "367730e1",
   "metadata": {},
   "outputs": [],
   "source": []
  }
 ],
 "metadata": {
  "kernelspec": {
   "display_name": "Python 3 (ipykernel)",
   "language": "python",
   "name": "python3"
  },
  "language_info": {
   "codemirror_mode": {
    "name": "ipython",
    "version": 3
   },
   "file_extension": ".py",
   "mimetype": "text/x-python",
   "name": "python",
   "nbconvert_exporter": "python",
   "pygments_lexer": "ipython3",
   "version": "3.9.7"
  }
 },
 "nbformat": 4,
 "nbformat_minor": 5
}
