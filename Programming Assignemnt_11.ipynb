{
 "cells": [
  {
   "cell_type": "code",
   "execution_count": 5,
   "id": "c2b36aed",
   "metadata": {},
   "outputs": [
    {
     "name": "stdout",
     "output_type": "stream",
     "text": [
      "hello\n",
      "this\n"
     ]
    }
   ],
   "source": [
    "#1 Write a Python program to find words which are greater than given length k?\n",
    "def grater(a,k):\n",
    "    l=a.split(' ')\n",
    "    for i in range(len(l)):\n",
    "        if len(l[i])>k:\n",
    "            print(l[i])\n",
    "grater('hello this is me',2)\n",
    "    "
   ]
  },
  {
   "cell_type": "code",
   "execution_count": 13,
   "id": "6f08d290",
   "metadata": {},
   "outputs": [
    {
     "name": "stdout",
     "output_type": "stream",
     "text": [
      "Enter the i-th character 4\n"
     ]
    },
    {
     "data": {
      "text/plain": [
       "'hell this is me'"
      ]
     },
     "execution_count": 13,
     "metadata": {},
     "output_type": "execute_result"
    }
   ],
   "source": [
    "#2 Write a Python program for removing i-th character from a string?\n",
    "j=int(input('Enter the i-th character '))\n",
    "a='hello this is me'\n",
    "a.replace(a[j],'')\n"
   ]
  },
  {
   "cell_type": "code",
   "execution_count": 28,
   "id": "cf5d913b",
   "metadata": {},
   "outputs": [
    {
     "name": "stdout",
     "output_type": "stream",
     "text": [
      "['hello', 'this', 'is', 'me']\n",
      "hello this is me\n"
     ]
    }
   ],
   "source": [
    "#3 Write a Python program to split and join a string?\n",
    "a='hello this is me'\n",
    "b=a.split(' ')\n",
    "print(b)\n",
    "c=' '.join(b)\n",
    "         \n",
    "print(c)"
   ]
  },
  {
   "cell_type": "code",
   "execution_count": 36,
   "id": "e4feddf1",
   "metadata": {},
   "outputs": [
    {
     "name": "stdout",
     "output_type": "stream",
     "text": [
      "binary string\n"
     ]
    }
   ],
   "source": [
    "#4 Write a Python to check if a given string is binary string or not?\n",
    "def string(a):\n",
    "    a=set(a)\n",
    "    \n",
    "    b={'0','1'}\n",
    "    if b== a:\n",
    "        print('binary string')\n",
    "    else:\n",
    "        print('not binary string')\n",
    "string('1011010010')"
   ]
  },
  {
   "cell_type": "code",
   "execution_count": 43,
   "id": "bf04b6af",
   "metadata": {},
   "outputs": [
    {
     "data": {
      "text/plain": [
       "{'are', 'for', 'hello', 'hi', 'is', 'me', 'this'}"
      ]
     },
     "execution_count": 43,
     "metadata": {},
     "output_type": "execute_result"
    }
   ],
   "source": [
    "#5 Write a Python program to find uncommon words from two Strings?\n",
    "a='hello this is me'\n",
    "c=a.split(' ')\n",
    "b='hi this are for me'\n",
    "d=b.split(' ')\n",
    "set(c+d)\n"
   ]
  },
  {
   "cell_type": "code",
   "execution_count": 56,
   "id": "e2c00f92",
   "metadata": {},
   "outputs": [
    {
     "name": "stdout",
     "output_type": "stream",
     "text": [
      "['hello', 'this']\n"
     ]
    }
   ],
   "source": [
    "#6 Write a Python to find all duplicate characters in string?\n",
    "a='hello hello this this is me'\n",
    "c=a.split(' ')\n",
    "d=set()\n",
    "l=[]\n",
    "for i in c:\n",
    "    if i in d:\n",
    "        l.append(i)\n",
    "    else:\n",
    "        d.add(i)\n",
    "print(l)"
   ]
  },
  {
   "cell_type": "code",
   "execution_count": 69,
   "id": "afc053ad",
   "metadata": {},
   "outputs": [
    {
     "name": "stdout",
     "output_type": "stream",
     "text": [
      "have special character\n"
     ]
    }
   ],
   "source": [
    "#7 Write a Python Program to check if a string contains any special character?\n",
    "import string\n",
    "a='sjhfi aihf 34 sukh @#$ VJ$UQ$V QHVQ$!#!hvj'\n",
    "for i in range(len(string.punctuation)):\n",
    "    if string.punctuation[i] in a:\n",
    "        print('have special character')\n",
    "        break\n",
    "else:\n",
    "    print('no special character')"
   ]
  },
  {
   "cell_type": "code",
   "execution_count": null,
   "id": "1676970e",
   "metadata": {},
   "outputs": [],
   "source": []
  }
 ],
 "metadata": {
  "kernelspec": {
   "display_name": "Python 3 (ipykernel)",
   "language": "python",
   "name": "python3"
  },
  "language_info": {
   "codemirror_mode": {
    "name": "ipython",
    "version": 3
   },
   "file_extension": ".py",
   "mimetype": "text/x-python",
   "name": "python",
   "nbconvert_exporter": "python",
   "pygments_lexer": "ipython3",
   "version": "3.9.7"
  }
 },
 "nbformat": 4,
 "nbformat_minor": 5
}
