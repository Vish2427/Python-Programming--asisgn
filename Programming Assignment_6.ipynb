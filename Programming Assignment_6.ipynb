{
 "cells": [
  {
   "cell_type": "code",
   "execution_count": 3,
   "id": "5ac56177",
   "metadata": {},
   "outputs": [
    {
     "name": "stdout",
     "output_type": "stream",
     "text": [
      "0\n",
      "1\n",
      "1\n",
      "2\n",
      "3\n",
      "5\n",
      "8\n",
      "13\n",
      "21\n",
      "34\n",
      "55\n"
     ]
    }
   ],
   "source": [
    "#1 Write a Python Program to Display Fibonacci Sequence Using Recursion?\n",
    "def fib(num):\n",
    "    if num<=1:\n",
    "        return num\n",
    "    else :\n",
    "        return fib(num-1)+fib(num-2)\n",
    "for i in range(11):\n",
    "    print(fib(i))"
   ]
  },
  {
   "cell_type": "code",
   "execution_count": 5,
   "id": "30e854d7",
   "metadata": {},
   "outputs": [
    {
     "name": "stdout",
     "output_type": "stream",
     "text": [
      "Enter number 6\n",
      "The factorial of 6 is 720\n"
     ]
    }
   ],
   "source": [
    "#2 Write a Python Program to Find Factorial of Number Using Recursion?\n",
    "def factorial(n):\n",
    "    if n == 1:\n",
    "        return n\n",
    "    else:\n",
    "        return n*factorial(n-1)\n",
    "num =int(input('Enter number '))\n",
    "if num < 0:\n",
    "    print(\"Factorial does not exist\")\n",
    "elif num == 0:\n",
    "    print(\"The factorial of 0 is 1\")\n",
    "else:\n",
    "    print(\"The factorial of\", num, \"is\", factorial(num))"
   ]
  },
  {
   "cell_type": "code",
   "execution_count": 10,
   "id": "409a50f2",
   "metadata": {},
   "outputs": [
    {
     "name": "stdout",
     "output_type": "stream",
     "text": [
      "Enter weight in kg 73\n",
      "Enter height in meters 1.77\n",
      "Your BMI is  23.3\n",
      "Normal Weight\n"
     ]
    }
   ],
   "source": [
    "#3 Write a Python Program to calculate your Body Mass Index?\n",
    "def bmi(weight,height):\n",
    "    BMI=weight/(height**2)\n",
    "    print('Your BMI is ',round(BMI,2))\n",
    "    if BMI<18.5:\n",
    "        print('Under Weight')\n",
    "    elif BMI>=18.5 and BMI <=24.9:\n",
    "        print('Normal Weight')\n",
    "    elif BMI>=25 and BMI <=30:\n",
    "        print('over Weight')\n",
    "    elif BMI>30:\n",
    "        print('Obese')\n",
    "weight = float(input('Enter weight in kg '))\n",
    "height = float(input('Enter height in meters '))\n",
    "bmi(weight,height)"
   ]
  },
  {
   "cell_type": "code",
   "execution_count": 3,
   "id": "d83a516b",
   "metadata": {},
   "outputs": [
    {
     "data": {
      "text/plain": [
       "1.6094379124341003"
      ]
     },
     "execution_count": 3,
     "metadata": {},
     "output_type": "execute_result"
    }
   ],
   "source": [
    "#4 Write a Python Program to calculate the natural logarithm of any number?\n",
    "import math\n",
    "math.log(5)"
   ]
  },
  {
   "cell_type": "code",
   "execution_count": 10,
   "id": "506a32e5",
   "metadata": {},
   "outputs": [
    {
     "name": "stdout",
     "output_type": "stream",
     "text": [
      "Enter number 4\n"
     ]
    },
    {
     "data": {
      "text/plain": [
       "100"
      ]
     },
     "execution_count": 10,
     "metadata": {},
     "output_type": "execute_result"
    }
   ],
   "source": [
    "#5 Write a Python Program for cube sum of first n natural numbers?\n",
    "n=int(input('Enter number '))\n",
    "a=0\n",
    "for i in range(n+1):\n",
    "    a=a+i**3\n",
    "a"
   ]
  },
  {
   "cell_type": "code",
   "execution_count": null,
   "id": "919aba18",
   "metadata": {},
   "outputs": [],
   "source": []
  }
 ],
 "metadata": {
  "kernelspec": {
   "display_name": "Python 3 (ipykernel)",
   "language": "python",
   "name": "python3"
  },
  "language_info": {
   "codemirror_mode": {
    "name": "ipython",
    "version": 3
   },
   "file_extension": ".py",
   "mimetype": "text/x-python",
   "name": "python",
   "nbconvert_exporter": "python",
   "pygments_lexer": "ipython3",
   "version": "3.9.7"
  }
 },
 "nbformat": 4,
 "nbformat_minor": 5
}
