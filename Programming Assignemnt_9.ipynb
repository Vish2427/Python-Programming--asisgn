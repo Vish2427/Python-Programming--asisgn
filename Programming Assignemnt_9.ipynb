{
 "cells": [
  {
   "cell_type": "code",
   "execution_count": 15,
   "id": "4d2b3be3",
   "metadata": {},
   "outputs": [
    {
     "name": "stdout",
     "output_type": "stream",
     "text": [
      "Enter number 175\n",
      "its disarium\n"
     ]
    }
   ],
   "source": [
    "#1 Write a Python program to check if the given number is a Disarium Number?\n",
    "a=input('Enter number ')\n",
    "b=0\n",
    "for i in range(len(a)):\n",
    "    b=b+int(a[i])**(i+1)\n",
    "    \n",
    "if int(a)==b:\n",
    "    print('its disarium')\n",
    "else:\n",
    "    print(' not disarium')"
   ]
  },
  {
   "cell_type": "code",
   "execution_count": 39,
   "id": "6c811ddb",
   "metadata": {},
   "outputs": [
    {
     "name": "stdout",
     "output_type": "stream",
     "text": [
      "0\n",
      "1\n",
      "2\n",
      "3\n",
      "4\n",
      "5\n",
      "6\n",
      "7\n",
      "8\n",
      "9\n",
      "89\n"
     ]
    }
   ],
   "source": [
    "#2 Write a Python program to print all disarium numbers between 1 to 100?\n",
    "a=range(101)\n",
    "c=[]\n",
    "for i in a:\n",
    "    c.append(str(i))\n",
    "\n",
    "for j in range(len(c)):\n",
    "    \n",
    "    b=0\n",
    "    for i in range(len(c[j])):\n",
    "        b=b+int(c[j][i])**(i+1)\n",
    "    \n",
    "    if int(c[j])==b:\n",
    "        print(c[j])\n",
    "       "
   ]
  },
  {
   "cell_type": "code",
   "execution_count": 56,
   "id": "395e3778",
   "metadata": {},
   "outputs": [
    {
     "data": {
      "text/plain": [
       "True"
      ]
     },
     "execution_count": 56,
     "metadata": {},
     "output_type": "execute_result"
    }
   ],
   "source": [
    "#2 Write a Python program to check if the given number is Happy Number?\n",
    "def hp_num(a):\n",
    "    a=str(a)\n",
    "   \n",
    "    if len(a)==1  and int(a)==1:\n",
    "        return True\n",
    "    elif len(a)!=1: \n",
    "        b=0\n",
    "        for i in range(len(a)):\n",
    "            b=b+int(a[i])**2\n",
    "            \n",
    "        return hp_num(b)\n",
    "    else:\n",
    "         return False\n",
    "    \n",
    "hp_num(23)        \n",
    "        "
   ]
  },
  {
   "cell_type": "code",
   "execution_count": 55,
   "id": "c9ffd6e0",
   "metadata": {},
   "outputs": [
    {
     "name": "stdout",
     "output_type": "stream",
     "text": [
      "1\n",
      "10\n",
      "13\n",
      "19\n",
      "23\n",
      "28\n",
      "31\n",
      "32\n",
      "44\n",
      "49\n",
      "68\n",
      "70\n",
      "79\n",
      "82\n",
      "86\n",
      "91\n",
      "94\n",
      "97\n",
      "100\n"
     ]
    }
   ],
   "source": [
    "#3 Write a Python program to print all happy numbers between 1 and 100?\n",
    "def hp_num(a):\n",
    "    \n",
    "    a=str(a)\n",
    "   \n",
    "    if len(a)==1  and int(a)==1:\n",
    "        return True\n",
    "    elif len(a)!=1: \n",
    "        b=0\n",
    "        for i in range(len(a)):\n",
    "            b=b+int(a[i])**2\n",
    "            \n",
    "        return hp_num(b)\n",
    "    else:\n",
    "        return 0\n",
    "for i in list(range(1,101)):\n",
    "    \n",
    "    if hp_num(i)==True:\n",
    "        print(i)\n"
   ]
  },
  {
   "cell_type": "code",
   "execution_count": 61,
   "id": "8c01730a",
   "metadata": {},
   "outputs": [
    {
     "data": {
      "text/plain": [
       "('51044', 'is harshad number')"
      ]
     },
     "execution_count": 61,
     "metadata": {},
     "output_type": "execute_result"
    }
   ],
   "source": [
    "#4 Write a Python program to determine whether the given number is a Harshad Number?\n",
    "def harshad(a):\n",
    "    a=str(a)\n",
    "    b=0\n",
    "    for i in range(len(a)):\n",
    "        b=b+int(a[i])\n",
    "    if int(a)%b==0:\n",
    "        return a,'is harshad number'\n",
    "    else:\n",
    "        return 'not harshad number'\n",
    "harshad(51044)       "
   ]
  },
  {
   "cell_type": "code",
   "execution_count": 67,
   "id": "0bb3e811",
   "metadata": {},
   "outputs": [
    {
     "name": "stdout",
     "output_type": "stream",
     "text": [
      "2\n",
      "6\n",
      "12\n",
      "20\n",
      "30\n",
      "42\n",
      "56\n",
      "72\n",
      "90\n"
     ]
    }
   ],
   "source": [
    "#5 Write a Python program to print all pronic numbers between 1 and 100?\n",
    "def pronic(a):\n",
    "    \n",
    "    for i in range(a):\n",
    "       \n",
    "        if i*(i+1)==a:\n",
    "            \n",
    "            return True\n",
    "for i in range(1,101):\n",
    "    pronic(i)\n",
    "    if pronic(i)==True:\n",
    "        print(i)"
   ]
  },
  {
   "cell_type": "code",
   "execution_count": null,
   "id": "a650fbb6",
   "metadata": {},
   "outputs": [],
   "source": []
  }
 ],
 "metadata": {
  "kernelspec": {
   "display_name": "Python 3 (ipykernel)",
   "language": "python",
   "name": "python3"
  },
  "language_info": {
   "codemirror_mode": {
    "name": "ipython",
    "version": 3
   },
   "file_extension": ".py",
   "mimetype": "text/x-python",
   "name": "python",
   "nbconvert_exporter": "python",
   "pygments_lexer": "ipython3",
   "version": "3.9.7"
  }
 },
 "nbformat": 4,
 "nbformat_minor": 5
}
