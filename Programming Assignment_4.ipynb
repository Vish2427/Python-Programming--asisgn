{
 "cells": [
  {
   "cell_type": "code",
   "execution_count": 4,
   "id": "3fe16381",
   "metadata": {},
   "outputs": [
    {
     "name": "stdout",
     "output_type": "stream",
     "text": [
      "Enter number 0\n"
     ]
    },
    {
     "data": {
      "text/plain": [
       "1"
      ]
     },
     "execution_count": 4,
     "metadata": {},
     "output_type": "execute_result"
    }
   ],
   "source": [
    "#1 Write a Python Program to Find the Factorial of a Number?\n",
    "import math\n",
    "a=int(input('Enter number '))\n",
    "math.factorial(a)"
   ]
  },
  {
   "cell_type": "code",
   "execution_count": 8,
   "id": "6c8d908e",
   "metadata": {},
   "outputs": [
    {
     "name": "stdout",
     "output_type": "stream",
     "text": [
      "Enter number 7\n",
      "5040\n"
     ]
    }
   ],
   "source": [
    "a=int(input('Enter number '))\n",
    "\n",
    "if a == 0:\n",
    "    print(1)\n",
    "else:\n",
    "    c=1\n",
    "    for i in range(1,a+1):\n",
    "        c=c*i\n",
    "    print(c)\n",
    "        "
   ]
  },
  {
   "cell_type": "code",
   "execution_count": 15,
   "id": "6df280d2",
   "metadata": {},
   "outputs": [
    {
     "name": "stdout",
     "output_type": "stream",
     "text": [
      "Enter number 8\n",
      "8 X 1 = 8\n",
      "8 X 2 = 16\n",
      "8 X 3 = 24\n",
      "8 X 4 = 32\n",
      "8 X 5 = 40\n",
      "8 X 6 = 48\n",
      "8 X 7 = 56\n",
      "8 X 8 = 64\n",
      "8 X 9 = 72\n",
      "8 X 10 = 80\n"
     ]
    }
   ],
   "source": [
    "#2 Write a Python Program to Display the multiplication Table?\n",
    "a=int(input('Enter number '))\n",
    "for i in range (1,11):\n",
    "    print(a,'X',i,'=',a*i )"
   ]
  },
  {
   "cell_type": "code",
   "execution_count": 18,
   "id": "01d3e238",
   "metadata": {},
   "outputs": [
    {
     "name": "stdout",
     "output_type": "stream",
     "text": [
      "1\n",
      "1\n",
      "2\n",
      "3\n",
      "5\n",
      "8\n",
      "13\n",
      "21\n",
      "34\n",
      "55\n"
     ]
    }
   ],
   "source": [
    "#3 Write a Python Program to Print the Fibonacci sequence?\n",
    "a=0\n",
    "b=1\n",
    "for i in range(10):\n",
    "    a,b=b,a+b\n",
    "    print(a)"
   ]
  },
  {
   "cell_type": "code",
   "execution_count": 27,
   "id": "46808c79",
   "metadata": {},
   "outputs": [
    {
     "name": "stdout",
     "output_type": "stream",
     "text": [
      "Enter number 153\n",
      "Number is Armstrong Number\n"
     ]
    }
   ],
   "source": [
    "#4 Write a Python Program to Check Armstrong Number?\n",
    "a=(input('Enter number '))\n",
    "l=list(a)\n",
    "b=0\n",
    "for i in l:\n",
    "    b=b+(int(i)**3)\n",
    "if b==int(a):\n",
    "    print('Number is Armstrong Number')\n",
    "else:\n",
    "    print('Number is not Armstrong Number')"
   ]
  },
  {
   "cell_type": "code",
   "execution_count": 38,
   "id": "12781458",
   "metadata": {},
   "outputs": [
    {
     "name": "stdout",
     "output_type": "stream",
     "text": [
      "Enter starting number 50\n",
      "Enter range 350\n",
      "153\n",
      "370\n",
      "371\n"
     ]
    }
   ],
   "source": [
    "#5 Write a Python Program to Find Armstrong Number in an Interval?\n",
    "a=int(input('Enter starting number '))\n",
    "c=int(input('Enter range '))\n",
    "for j in range(a,a+c+1):\n",
    "    l=list(str(j))\n",
    "   \n",
    "    b=0\n",
    "    for i in l:\n",
    "        b=b+(int(i)**3)\n",
    "    if b==int(j):\n",
    "            print(j)"
   ]
  },
  {
   "cell_type": "code",
   "execution_count": 40,
   "id": "eb143946",
   "metadata": {},
   "outputs": [
    {
     "name": "stdout",
     "output_type": "stream",
     "text": [
      "Enter number 40\n",
      "820\n"
     ]
    }
   ],
   "source": [
    "#6 Write a Python Program to Find the Sum of Natural Numbers?\n",
    "a=int(input('Enter number '))\n",
    "b=0\n",
    "for i in range(a+1):\n",
    "    b=b+i\n",
    "print(b)"
   ]
  },
  {
   "cell_type": "code",
   "execution_count": null,
   "id": "2b313aa6",
   "metadata": {},
   "outputs": [],
   "source": []
  }
 ],
 "metadata": {
  "kernelspec": {
   "display_name": "Python 3 (ipykernel)",
   "language": "python",
   "name": "python3"
  },
  "language_info": {
   "codemirror_mode": {
    "name": "ipython",
    "version": 3
   },
   "file_extension": ".py",
   "mimetype": "text/x-python",
   "name": "python",
   "nbconvert_exporter": "python",
   "pygments_lexer": "ipython3",
   "version": "3.9.7"
  }
 },
 "nbformat": 4,
 "nbformat_minor": 5
}
