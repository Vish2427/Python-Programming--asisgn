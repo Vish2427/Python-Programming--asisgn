{
 "cells": [
  {
   "cell_type": "code",
   "execution_count": 6,
   "id": "86a5d182",
   "metadata": {},
   "outputs": [
    {
     "data": {
      "text/plain": [
       "84"
      ]
     },
     "execution_count": 6,
     "metadata": {},
     "output_type": "execute_result"
    }
   ],
   "source": [
    "#1 Write a Python Program to find sum of array?\n",
    "import numpy as np\n",
    "a=np.array([1,8,9,2,6,53,5])\n",
    "a.sum()"
   ]
  },
  {
   "cell_type": "code",
   "execution_count": 8,
   "id": "af7400d7",
   "metadata": {},
   "outputs": [
    {
     "data": {
      "text/plain": [
       "53"
      ]
     },
     "execution_count": 8,
     "metadata": {},
     "output_type": "execute_result"
    }
   ],
   "source": [
    "#2 Write a Python Program to find largest element in an array?\n",
    "b=np.array([1,8,9,2,6,53,5])\n",
    "b.max()"
   ]
  },
  {
   "cell_type": "code",
   "execution_count": 23,
   "id": "fe302bc9",
   "metadata": {},
   "outputs": [
    {
     "data": {
      "text/plain": [
       "array([ 9,  2,  6, 53,  5,  1,  8])"
      ]
     },
     "execution_count": 23,
     "metadata": {},
     "output_type": "execute_result"
    }
   ],
   "source": [
    "#3 Write a Python Program for array rotation?\n",
    "\n",
    "def rotation(arr,n,k):\n",
    "    for j in range(k):\n",
    "        a=arr[0]\n",
    "        for i in range(n-1):\n",
    "            arr[i]=arr[i+1]\n",
    "        arr[n-1]=a\n",
    "    return arr\n",
    "c=np.array([1,8,9,2,6,53,5])\n",
    "rotation(c,7,2)"
   ]
  },
  {
   "cell_type": "code",
   "execution_count": 43,
   "id": "4389b50a",
   "metadata": {},
   "outputs": [
    {
     "data": {
      "text/plain": [
       "array([ 1,  8,  9,  2,  6, 53,  5,  1,  8,  9,  2])"
      ]
     },
     "execution_count": 43,
     "metadata": {},
     "output_type": "execute_result"
    }
   ],
   "source": [
    "#4 Write a Python Program to Split the array and add the first part to the end?\n",
    "c=np.array([1,8,9,2,6,53,5])\n",
    "n=len(c)/2\n",
    "if len(c)%2==0:\n",
    "    a=c[:int(n)]\n",
    "    c=np.append(c,a)\n",
    "else:\n",
    "    \n",
    "    a=c[:round(n)]\n",
    "    c=np.append(c,a)\n",
    "c"
   ]
  },
  {
   "cell_type": "code",
   "execution_count": 75,
   "id": "e1561cb0",
   "metadata": {},
   "outputs": [
    {
     "data": {
      "text/plain": [
       "False"
      ]
     },
     "execution_count": 75,
     "metadata": {},
     "output_type": "execute_result"
    }
   ],
   "source": [
    "#5 Write a Python Program to check if given array is Monotonic?\n",
    "\n",
    "def monotonic(n,a):\n",
    "    \n",
    "    if all(a[i]<=a[i+1] for i in range(n-1) or a[i]>=a[i+1] for i in range(n-1) ):\n",
    "        return True\n",
    "    else:\n",
    "        return False\n",
    "               \n",
    "a=[4,10,15,18,25,8]\n",
    "n=len(a)       \n",
    "        \n",
    "monotonic(n,a)      \n",
    "\n",
    "        \n",
    "\n",
    "   "
   ]
  },
  {
   "cell_type": "code",
   "execution_count": null,
   "id": "89da2fb3",
   "metadata": {},
   "outputs": [],
   "source": []
  },
  {
   "cell_type": "code",
   "execution_count": null,
   "id": "80e9a9fa",
   "metadata": {},
   "outputs": [],
   "source": [
    "\n"
   ]
  }
 ],
 "metadata": {
  "kernelspec": {
   "display_name": "Python 3 (ipykernel)",
   "language": "python",
   "name": "python3"
  },
  "language_info": {
   "codemirror_mode": {
    "name": "ipython",
    "version": 3
   },
   "file_extension": ".py",
   "mimetype": "text/x-python",
   "name": "python",
   "nbconvert_exporter": "python",
   "pygments_lexer": "ipython3",
   "version": "3.9.7"
  }
 },
 "nbformat": 4,
 "nbformat_minor": 5
}
